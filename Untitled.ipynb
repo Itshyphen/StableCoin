{
 "cells": [
  {
   "cell_type": "code",
   "execution_count": 16,
   "id": "41cf00c4",
   "metadata": {},
   "outputs": [],
   "source": [
    "from checkscore.checkscore import Checkscore\n",
    "from iconsdk.wallet.wallet import KeyWallet\n",
    "\n",
    "from checkscore.methods import *\n",
    "\n",
    "deployer_wallet= KeyWallet.load(\"JavaTest.json\", \"p@ssw0rd\")"
   ]
  },
  {
   "cell_type": "code",
   "execution_count": 14,
   "id": "941639c2",
   "metadata": {},
   "outputs": [],
   "source": [
    "Checkscore(\"cx8a24389a46fde31e7bd0ff00ba1d55ff7bf4a1c7\",\"sejong\").fill_methods()"
   ]
  },
  {
   "cell_type": "code",
   "execution_count": null,
   "id": "4fd2e01a",
   "metadata": {},
   "outputs": [],
   "source": [
    "## Readonly functions"
   ]
  },
  {
   "cell_type": "code",
   "execution_count": null,
   "id": "80f47afb",
   "metadata": {},
   "outputs": [],
   "source": [
    "method = 'name'\n",
    "\n",
    "readonly(method)"
   ]
  },
  {
   "cell_type": "code",
   "execution_count": null,
   "id": "08daa01d",
   "metadata": {},
   "outputs": [],
   "source": [
    "method = 'symbol'\n",
    "\n",
    "readonly(method)"
   ]
  },
  {
   "cell_type": "code",
   "execution_count": null,
   "id": "a006d101",
   "metadata": {},
   "outputs": [],
   "source": [
    "method = 'decimals'\n",
    "\n",
    "readonly(method)"
   ]
  },
  {
   "cell_type": "code",
   "execution_count": null,
   "id": "b5eb3031",
   "metadata": {},
   "outputs": [],
   "source": [
    "method = 'totalSupply'\n",
    "\n",
    "readonly(method)"
   ]
  },
  {
   "cell_type": "code",
   "execution_count": null,
   "id": "61b8bf50",
   "metadata": {},
   "outputs": [],
   "source": [
    "params = {'_owner': ''}\n",
    "\n",
    "method = 'balanceOf'\n",
    "\n",
    "readonly(method, params)"
   ]
  },
  {
   "cell_type": "code",
   "execution_count": null,
   "id": "bb34f58e",
   "metadata": {},
   "outputs": [],
   "source": [
    "method = 'getAdmin'\n",
    "\n",
    "readonly(method)"
   ]
  },
  {
   "cell_type": "code",
   "execution_count": 19,
   "id": "f22ea3e9",
   "metadata": {},
   "outputs": [
    {
     "name": "stdout",
     "output_type": "stream",
     "text": [
      "['hxf218cb3675aca9c78d82e35482a527be285db389']\n"
     ]
    }
   ],
   "source": [
    "method = 'getIssuers'\n",
    "\n",
    "readonly(method)"
   ]
  },
  {
   "cell_type": "code",
   "execution_count": null,
   "id": "2dc94273",
   "metadata": {},
   "outputs": [],
   "source": [
    "method = 'isPaused'\n",
    "\n",
    "readonly(method)"
   ]
  },
  {
   "cell_type": "code",
   "execution_count": null,
   "id": "191cc956",
   "metadata": {},
   "outputs": [],
   "source": [
    "params = {'_issuer': ''}\n",
    "\n",
    "method = 'issuerAllowance'\n",
    "\n",
    "readonly(method, params)"
   ]
  },
  {
   "cell_type": "code",
   "execution_count": null,
   "id": "44ba87d6",
   "metadata": {},
   "outputs": [],
   "source": [
    "method = 'freeDailyTxLimit'\n",
    "\n",
    "readonly(method)"
   ]
  },
  {
   "cell_type": "code",
   "execution_count": null,
   "id": "6aa8be47",
   "metadata": {},
   "outputs": [],
   "source": [
    "params = {'_owner': ''}\n",
    "\n",
    "method = 'remainingFreeTxThisTerm'\n",
    "\n",
    "readonly(method, params)"
   ]
  },
  {
   "cell_type": "code",
   "execution_count": null,
   "id": "846c38c5",
   "metadata": {},
   "outputs": [],
   "source": [
    "params = {'_owner': ''}\n",
    "\n",
    "method = 'isWhitelisted'\n",
    "\n",
    "readonly(method, params)"
   ]
  },
  {
   "cell_type": "code",
   "execution_count": null,
   "id": "cf72092b",
   "metadata": {},
   "outputs": [],
   "source": [
    "## External Functions"
   ]
  },
  {
   "cell_type": "code",
   "execution_count": null,
   "id": "c60cadc4",
   "metadata": {},
   "outputs": [],
   "source": [
    "params = {'_to': '', '_value': 0, '_data': ''}\n",
    "\n",
    "method = 'transfer'\n",
    "wallet = deployer_wallet\n",
    "\n",
    "external(method, wallet, params)"
   ]
  },
  {
   "cell_type": "code",
   "execution_count": null,
   "id": "22b5abe0",
   "metadata": {},
   "outputs": [],
   "source": [
    "params = {'_new_limit': 0}\n",
    "\n",
    "method = 'changeFreeDailyTxLimit'\n",
    "wallet = deployer_wallet\n",
    "\n",
    "external(method, wallet, params)"
   ]
  },
  {
   "cell_type": "code",
   "execution_count": 18,
   "id": "8f78e71d",
   "metadata": {},
   "outputs": [
    {
     "ename": "JSONRPCException",
     "evalue": "{'code': -30032, 'message': 'SCOREError(-30032): E0032:hxf218cb3675aca9c78d82e35482a527be285db389 is already an issuer'}",
     "output_type": "error",
     "traceback": [
      "\u001b[0;31m---------------------------------------------------------------------------\u001b[0m",
      "\u001b[0;31mJSONRPCException\u001b[0m                          Traceback (most recent call last)",
      "Cell \u001b[0;32mIn [18], line 6\u001b[0m\n\u001b[1;32m      3\u001b[0m method \u001b[38;5;241m=\u001b[39m \u001b[38;5;124m'\u001b[39m\u001b[38;5;124maddIssuer\u001b[39m\u001b[38;5;124m'\u001b[39m\n\u001b[1;32m      4\u001b[0m wallet \u001b[38;5;241m=\u001b[39m deployer_wallet\n\u001b[0;32m----> 6\u001b[0m \u001b[43mexternal\u001b[49m\u001b[43m(\u001b[49m\u001b[43mmethod\u001b[49m\u001b[43m,\u001b[49m\u001b[43m \u001b[49m\u001b[43mwallet\u001b[49m\u001b[43m,\u001b[49m\u001b[43m \u001b[49m\u001b[43mparams\u001b[49m\u001b[43m)\u001b[49m\n",
      "File \u001b[0;32m~/omm/lib/python3.9/site-packages/checkscore/methods.py:53\u001b[0m, in \u001b[0;36mexternal\u001b[0;34m(fn_name, wallet, params)\u001b[0m\n\u001b[1;32m     44\u001b[0m \u001b[38;5;28;01mdef\u001b[39;00m \u001b[38;5;21mexternal\u001b[39m(fn_name: \u001b[38;5;28mstr\u001b[39m, wallet, params\u001b[38;5;241m=\u001b[39m\u001b[38;5;28;01mNone\u001b[39;00m):\n\u001b[1;32m     45\u001b[0m \tcall_transaction \u001b[38;5;241m=\u001b[39m CallTransactionBuilder()\\\n\u001b[1;32m     46\u001b[0m \t\t\t    \u001b[38;5;241m.\u001b[39mfrom_(wallet\u001b[38;5;241m.\u001b[39mget_address())\\\n\u001b[1;32m     47\u001b[0m \t\t\t    \u001b[38;5;241m.\u001b[39mto(SCORE_ADDRESS)\\\n\u001b[0;32m   (...)\u001b[0m\n\u001b[1;32m     51\u001b[0m \t\t\t    \u001b[38;5;241m.\u001b[39mparams(params)\\\n\u001b[1;32m     52\u001b[0m \t\t\t    \u001b[38;5;241m.\u001b[39mbuild()\n\u001b[0;32m---> 53\u001b[0m \t\u001b[43mtransaction\u001b[49m\u001b[43m(\u001b[49m\u001b[43mcall_transaction\u001b[49m\u001b[43m,\u001b[49m\u001b[43m \u001b[49m\u001b[43mwallet\u001b[49m\u001b[43m)\u001b[49m\n",
      "File \u001b[0;32m~/omm/lib/python3.9/site-packages/checkscore/methods.py:79\u001b[0m, in \u001b[0;36mtransaction\u001b[0;34m(call_transaction, wallet)\u001b[0m\n\u001b[1;32m     78\u001b[0m \u001b[38;5;28;01mdef\u001b[39;00m \u001b[38;5;21mtransaction\u001b[39m(call_transaction, wallet):\n\u001b[0;32m---> 79\u001b[0m \testimate_step \u001b[38;5;241m=\u001b[39m \u001b[43micon_service\u001b[49m\u001b[38;5;241;43m.\u001b[39;49m\u001b[43mestimate_step\u001b[49m\u001b[43m(\u001b[49m\u001b[43mcall_transaction\u001b[49m\u001b[43m)\u001b[49m\n\u001b[1;32m     80\u001b[0m \tstep_limit \u001b[38;5;241m=\u001b[39m estimate_step \u001b[38;5;241m+\u001b[39m \u001b[38;5;241m100000\u001b[39m\n\u001b[1;32m     81\u001b[0m \tsigned_transaction \u001b[38;5;241m=\u001b[39m SignedTransaction(call_transaction, wallet, step_limit)\n",
      "File \u001b[0;32m~/omm/lib/python3.9/site-packages/iconsdk/icon_service.py:354\u001b[0m, in \u001b[0;36mIconService.estimate_step\u001b[0;34m(self, transaction, full_response)\u001b[0m\n\u001b[1;32m    351\u001b[0m \u001b[38;5;28;01melif\u001b[39;00m transaction\u001b[38;5;241m.\u001b[39mdata_type \u001b[38;5;241m==\u001b[39m \u001b[38;5;124m'\u001b[39m\u001b[38;5;124mmessage\u001b[39m\u001b[38;5;124m'\u001b[39m:\n\u001b[1;32m    352\u001b[0m     params[\u001b[38;5;124m\"\u001b[39m\u001b[38;5;124mdata\u001b[39m\u001b[38;5;124m\"\u001b[39m] \u001b[38;5;241m=\u001b[39m transaction\u001b[38;5;241m.\u001b[39mdata\n\u001b[0;32m--> 354\u001b[0m result \u001b[38;5;241m=\u001b[39m \u001b[38;5;28;43mself\u001b[39;49m\u001b[38;5;241;43m.\u001b[39;49m\u001b[43m__provider\u001b[49m\u001b[38;5;241;43m.\u001b[39;49m\u001b[43mmake_request\u001b[49m\u001b[43m(\u001b[49m\u001b[38;5;124;43m'\u001b[39;49m\u001b[38;5;124;43mdebug_estimateStep\u001b[39;49m\u001b[38;5;124;43m'\u001b[39;49m\u001b[43m,\u001b[49m\u001b[43m \u001b[49m\u001b[43mparams\u001b[49m\u001b[43m,\u001b[49m\u001b[43m \u001b[49m\u001b[43mfull_response\u001b[49m\u001b[43m)\u001b[49m\n\u001b[1;32m    355\u001b[0m \u001b[38;5;28;01mreturn\u001b[39;00m result \u001b[38;5;28;01mif\u001b[39;00m full_response \u001b[38;5;28;01melse\u001b[39;00m \u001b[38;5;28mint\u001b[39m(result, \u001b[38;5;241m16\u001b[39m)\n",
      "File \u001b[0;32m~/omm/lib/python3.9/site-packages/iconsdk/providers/http_provider.py:124\u001b[0m, in \u001b[0;36mHTTPProvider.make_request\u001b[0;34m(self, method, params, full_response)\u001b[0m\n\u001b[1;32m    122\u001b[0m response \u001b[38;5;241m=\u001b[39m \u001b[38;5;28mself\u001b[39m\u001b[38;5;241m.\u001b[39m_make_post_request(request_url, rpc_dict, \u001b[38;5;241m*\u001b[39m\u001b[38;5;241m*\u001b[39m\u001b[38;5;28mself\u001b[39m\u001b[38;5;241m.\u001b[39m_get_request_kwargs())\n\u001b[1;32m    123\u001b[0m \u001b[38;5;28;01mtry\u001b[39;00m:\n\u001b[0;32m--> 124\u001b[0m     \u001b[38;5;28;01mreturn\u001b[39;00m \u001b[38;5;28;43mself\u001b[39;49m\u001b[38;5;241;43m.\u001b[39;49m\u001b[43m_return_custom_response\u001b[49m\u001b[43m(\u001b[49m\u001b[43mresponse\u001b[49m\u001b[43m,\u001b[49m\u001b[43m \u001b[49m\u001b[43mfull_response\u001b[49m\u001b[43m)\u001b[49m\n\u001b[1;32m    125\u001b[0m \u001b[38;5;28;01mexcept\u001b[39;00m JSONDecodeError:\n\u001b[1;32m    126\u001b[0m     raw_response \u001b[38;5;241m=\u001b[39m response\u001b[38;5;241m.\u001b[39mcontent\u001b[38;5;241m.\u001b[39mdecode()\n",
      "File \u001b[0;32m~/omm/lib/python3.9/site-packages/iconsdk/providers/http_provider.py:136\u001b[0m, in \u001b[0;36mHTTPProvider._return_custom_response\u001b[0;34m(response, full_response)\u001b[0m\n\u001b[1;32m    134\u001b[0m \u001b[38;5;28;01mif\u001b[39;00m response\u001b[38;5;241m.\u001b[39mok:\n\u001b[1;32m    135\u001b[0m     \u001b[38;5;28;01mreturn\u001b[39;00m content[\u001b[38;5;124m'\u001b[39m\u001b[38;5;124mresult\u001b[39m\u001b[38;5;124m'\u001b[39m]\n\u001b[0;32m--> 136\u001b[0m \u001b[38;5;28;01mraise\u001b[39;00m JSONRPCException(content[\u001b[38;5;124m\"\u001b[39m\u001b[38;5;124merror\u001b[39m\u001b[38;5;124m\"\u001b[39m])\n",
      "\u001b[0;31mJSONRPCException\u001b[0m: {'code': -30032, 'message': 'SCOREError(-30032): E0032:hxf218cb3675aca9c78d82e35482a527be285db389 is already an issuer'}"
     ]
    }
   ],
   "source": [
    "params = {'_issuer': 'hxf218cb3675aca9c78d82e35482a527be285db389'}\n",
    "\n",
    "method = 'addIssuer'\n",
    "wallet = deployer_wallet\n",
    "\n",
    "external(method, wallet, params)"
   ]
  },
  {
   "cell_type": "code",
   "execution_count": null,
   "id": "aaf5d975",
   "metadata": {},
   "outputs": [],
   "source": [
    "params = {'_issuer': ''}\n",
    "\n",
    "method = 'removeIssuer'\n",
    "wallet = deployer_wallet\n",
    "\n",
    "external(method, wallet, params)"
   ]
  },
  {
   "cell_type": "code",
   "execution_count": null,
   "id": "e7f0739a",
   "metadata": {},
   "outputs": [],
   "source": [
    "params = {'_issuer': '', '_value': 0}\n",
    "\n",
    "method = 'approve'\n",
    "wallet = deployer_wallet\n",
    "\n",
    "external(method, wallet, params)"
   ]
  },
  {
   "cell_type": "code",
   "execution_count": null,
   "id": "b588372c",
   "metadata": {},
   "outputs": [],
   "source": [
    "params = {'_newAdmin': ''}\n",
    "\n",
    "method = 'transferAdminRight'\n",
    "wallet = deployer_wallet\n",
    "\n",
    "external(method, wallet, params)"
   ]
  },
  {
   "cell_type": "code",
   "execution_count": null,
   "id": "99909b53",
   "metadata": {},
   "outputs": [],
   "source": [
    "method = 'togglePause'\n",
    "wallet = deployer_wallet\n",
    "\n",
    "external(method, wallet)"
   ]
  },
  {
   "cell_type": "code",
   "execution_count": null,
   "id": "45b8d589",
   "metadata": {},
   "outputs": [],
   "source": [
    "params = {'_value': 0}\n",
    "\n",
    "method = 'mint'\n",
    "wallet = deployer_wallet\n",
    "\n",
    "external(method, wallet, params)"
   ]
  },
  {
   "cell_type": "code",
   "execution_count": null,
   "id": "c576e185",
   "metadata": {},
   "outputs": [],
   "source": [
    "params = {'_to': '', '_value': 0}\n",
    "\n",
    "method = 'mintTo'\n",
    "wallet = deployer_wallet\n",
    "\n",
    "external(method, wallet, params)"
   ]
  },
  {
   "cell_type": "code",
   "execution_count": null,
   "id": "63c63b83",
   "metadata": {},
   "outputs": [],
   "source": [
    "params = {'_value': 0}\n",
    "\n",
    "method = 'burn'\n",
    "wallet = deployer_wallet\n",
    "\n",
    "external(method, wallet, params)"
   ]
  },
  {
   "cell_type": "code",
   "execution_count": null,
   "id": "b2d94ae8",
   "metadata": {},
   "outputs": [],
   "source": [
    "## Payable functions"
   ]
  },
  {
   "cell_type": "code",
   "execution_count": null,
   "id": "5e3d9a5c",
   "metadata": {},
   "outputs": [],
   "source": [
    "## Readonly functions"
   ]
  },
  {
   "cell_type": "code",
   "execution_count": 6,
   "id": "6c31c46c",
   "metadata": {},
   "outputs": [
    {
     "name": "stdout",
     "output_type": "stream",
     "text": [
      "Stable Token\n"
     ]
    }
   ],
   "source": [
    "method = 'name'\n",
    "\n",
    "readonly(method)"
   ]
  },
  {
   "cell_type": "code",
   "execution_count": 7,
   "id": "4916dde0",
   "metadata": {
    "scrolled": true
   },
   "outputs": [
    {
     "name": "stdout",
     "output_type": "stream",
     "text": [
      "STO\n"
     ]
    }
   ],
   "source": [
    "method = 'symbol'\n",
    "\n",
    "readonly(method)"
   ]
  },
  {
   "cell_type": "code",
   "execution_count": 8,
   "id": "9a4ba163",
   "metadata": {},
   "outputs": [
    {
     "name": "stdout",
     "output_type": "stream",
     "text": [
      "0x12\n"
     ]
    }
   ],
   "source": [
    "method = 'decimals'\n",
    "\n",
    "readonly(method)"
   ]
  },
  {
   "cell_type": "code",
   "execution_count": 10,
   "id": "ac24e3cd",
   "metadata": {},
   "outputs": [
    {
     "name": "stdout",
     "output_type": "stream",
     "text": [
      "0x0\n"
     ]
    }
   ],
   "source": [
    "method = 'totalSupply'\n",
    "\n",
    "readonly(method)"
   ]
  },
  {
   "cell_type": "code",
   "execution_count": null,
   "id": "0a6485db",
   "metadata": {},
   "outputs": [],
   "source": [
    "params = {'_owner': ''}\n",
    "\n",
    "method = 'balanceOf'\n",
    "\n",
    "readonly(method, params)"
   ]
  },
  {
   "cell_type": "code",
   "execution_count": 13,
   "id": "55e2117e",
   "metadata": {},
   "outputs": [
    {
     "name": "stdout",
     "output_type": "stream",
     "text": [
      "hx453814388229978d3cc13c994bb33fa3a34c9cdd\n"
     ]
    }
   ],
   "source": [
    "method = 'getAdmin'\n",
    "\n",
    "readonly(method)"
   ]
  },
  {
   "cell_type": "code",
   "execution_count": 9,
   "id": "af5d1e89",
   "metadata": {},
   "outputs": [
    {
     "name": "stdout",
     "output_type": "stream",
     "text": [
      "[]\n"
     ]
    }
   ],
   "source": [
    "method = 'getIssuers'\n",
    "\n",
    "readonly(method)"
   ]
  },
  {
   "cell_type": "code",
   "execution_count": null,
   "id": "ace2a668",
   "metadata": {},
   "outputs": [],
   "source": [
    "method = 'isPaused'\n",
    "\n",
    "readonly(method)"
   ]
  },
  {
   "cell_type": "code",
   "execution_count": null,
   "id": "b8251c05",
   "metadata": {},
   "outputs": [],
   "source": [
    "params = {'_issuer': ''}\n",
    "\n",
    "method = 'issuerAllowance'\n",
    "\n",
    "readonly(method, params)"
   ]
  },
  {
   "cell_type": "code",
   "execution_count": null,
   "id": "c3a2d8df",
   "metadata": {},
   "outputs": [],
   "source": [
    "method = 'freeDailyTxLimit'\n",
    "\n",
    "readonly(method)"
   ]
  },
  {
   "cell_type": "code",
   "execution_count": null,
   "id": "8412f046",
   "metadata": {},
   "outputs": [],
   "source": [
    "params = {'_owner': ''}\n",
    "\n",
    "method = 'remainingFreeTxThisTerm'\n",
    "\n",
    "readonly(method, params)"
   ]
  },
  {
   "cell_type": "code",
   "execution_count": null,
   "id": "b91e9211",
   "metadata": {},
   "outputs": [],
   "source": [
    "params = {'_owner': ''}\n",
    "\n",
    "method = 'isWhitelisted'\n",
    "\n",
    "readonly(method, params)"
   ]
  },
  {
   "cell_type": "code",
   "execution_count": null,
   "id": "58aea931",
   "metadata": {},
   "outputs": [],
   "source": [
    "## External Functions"
   ]
  },
  {
   "cell_type": "code",
   "execution_count": null,
   "id": "57611e6c",
   "metadata": {},
   "outputs": [],
   "source": [
    "params = {'_to': '', '_value': 0, '_data': ''}\n",
    "\n",
    "method = 'transfer'\n",
    "wallet = deployer_wallet\n",
    "\n",
    "external(method, wallet, params)"
   ]
  },
  {
   "cell_type": "code",
   "execution_count": null,
   "id": "245f67f3",
   "metadata": {},
   "outputs": [],
   "source": [
    "params = {'_new_limit': 0}\n",
    "\n",
    "method = 'changeFreeDailyTxLimit'\n",
    "wallet = deployer_wallet\n",
    "\n",
    "external(method, wallet, params)"
   ]
  },
  {
   "cell_type": "code",
   "execution_count": null,
   "id": "33641945",
   "metadata": {},
   "outputs": [],
   "source": [
    "params = {'_issuer': ''}\n",
    "\n",
    "method = 'addIssuer'\n",
    "wallet = deployer_wallet\n",
    "\n",
    "external(method, wallet, params)"
   ]
  },
  {
   "cell_type": "code",
   "execution_count": null,
   "id": "c9f25f48",
   "metadata": {},
   "outputs": [],
   "source": [
    "params = {'_issuer': ''}\n",
    "\n",
    "method = 'removeIssuer'\n",
    "wallet = deployer_wallet\n",
    "\n",
    "external(method, wallet, params)"
   ]
  },
  {
   "cell_type": "code",
   "execution_count": null,
   "id": "642c200b",
   "metadata": {},
   "outputs": [],
   "source": [
    "params = {'_issuer': '', '_value': 0}\n",
    "\n",
    "method = 'approve'\n",
    "wallet = deployer_wallet\n",
    "\n",
    "external(method, wallet, params)"
   ]
  },
  {
   "cell_type": "code",
   "execution_count": null,
   "id": "b0f1aeec",
   "metadata": {},
   "outputs": [],
   "source": [
    "params = {'_newAdmin': ''}\n",
    "\n",
    "method = 'transferAdminRight'\n",
    "wallet = deployer_wallet\n",
    "\n",
    "external(method, wallet, params)"
   ]
  },
  {
   "cell_type": "code",
   "execution_count": null,
   "id": "cc308def",
   "metadata": {},
   "outputs": [],
   "source": [
    "method = 'togglePause'\n",
    "wallet = deployer_wallet\n",
    "\n",
    "external(method, wallet)"
   ]
  },
  {
   "cell_type": "code",
   "execution_count": null,
   "id": "d7c24f3f",
   "metadata": {},
   "outputs": [],
   "source": [
    "params = {'_value': 0}\n",
    "\n",
    "method = 'mint'\n",
    "wallet = deployer_wallet\n",
    "\n",
    "external(method, wallet, params)"
   ]
  },
  {
   "cell_type": "code",
   "execution_count": null,
   "id": "bfaecef4",
   "metadata": {},
   "outputs": [],
   "source": [
    "params = {'_to': '', '_value': 0}\n",
    "\n",
    "method = 'mintTo'\n",
    "wallet = deployer_wallet\n",
    "\n",
    "external(method, wallet, params)"
   ]
  },
  {
   "cell_type": "code",
   "execution_count": null,
   "id": "ccc130c0",
   "metadata": {},
   "outputs": [],
   "source": [
    "params = {'_value': 0}\n",
    "\n",
    "method = 'burn'\n",
    "wallet = deployer_wallet\n",
    "\n",
    "external(method, wallet, params)"
   ]
  },
  {
   "cell_type": "code",
   "execution_count": null,
   "id": "cf1e2a08",
   "metadata": {},
   "outputs": [],
   "source": [
    "## Payable functions"
   ]
  },
  {
   "cell_type": "code",
   "execution_count": null,
   "id": "a9676414",
   "metadata": {},
   "outputs": [],
   "source": []
  }
 ],
 "metadata": {
  "kernelspec": {
   "display_name": "Python 3 (ipykernel)",
   "language": "python",
   "name": "python3"
  },
  "language_info": {
   "codemirror_mode": {
    "name": "ipython",
    "version": 3
   },
   "file_extension": ".py",
   "mimetype": "text/x-python",
   "name": "python",
   "nbconvert_exporter": "python",
   "pygments_lexer": "ipython3",
   "version": "3.9.12"
  }
 },
 "nbformat": 4,
 "nbformat_minor": 5
}
